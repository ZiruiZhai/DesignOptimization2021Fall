{
 "cells": [
  {
   "cell_type": "markdown",
   "metadata": {},
   "source": [
    "### Problem 1 (10 Points)\n",
    "\n",
    "Sketch graphically the problem \n",
    "\n",
    "$$\n",
    "\\begin{aligned}\n",
    "\\min_{x_1,x_2} & \\quad f({\\bf x})=(x_1+1)^2+(x_2-2)^2\\\\\n",
    "{\\text{subject to }} & \\quad g_1 = x_1-2\\leq 0,{\\quad} g_3 = -x_1\\leq 0,\\\\\n",
    "& \\quad g_2 = x_2-1\\leq 0, {\\quad} g_4 = -x_2\\leq 0.\n",
    "\\end{aligned}\n",
    "$$\n",
    "\n",
    "Find the optimum graphically. Determine directions of feasible descent at the corner points of the feasible domain. Show the gradient directions of $f$ and $g_i$s at these points. Verify graphical results analytically using the KKT conditions."
   ]
  },
  {
   "cell_type": "markdown",
   "metadata": {},
   "source": [
    "### Answer:\n",
    "![HW4_1](img/HW4_1.jpg)\n",
    "The optimum is located at the left upper point (0,1) graphycally.\n",
    "\n",
    "Directions of feasible descent at the corner points are represented by $d$ in the figure above.\n",
    "\n",
    "gradient directions of  $f$  and  $g_i$ are shown in the figure above.\n",
    "\n",
    "#### Verification using KKT conditions:\n",
    "\n",
    "$$\n",
    "L({x, \\mu })=f({x})+\\mu g({x})\\\\\n",
    "=(x_1+1)^2+(x_2-2)^2+\\mu_1 (x_1-2) + \\mu_2 (x_2-1) + \\mu_3 (-x_1) + \\mu_4 (-x_2)\\\\\n",
    "$$\n",
    "\n",
    "Then,\n",
    "\n",
    "$$\n",
    "\\Delta L({x, \\mu})=\\begin{bmatrix}2(x_1+1)+\\mu_1-\\mu_3\\\\2(x_2-2)+\\mu_2-\\mu_4\\\\\\end{bmatrix} \\\\\n",
    "$$\n",
    "\n",
    "Since point (0,1) is on $g_2$ and $g_3$, we have $\\mu_1 = \\mu_4 = 0$ , $\\mu_2>0$ , and $\\mu_3>0$ .\n",
    "Then we have the equation:\n",
    "\n",
    "$$\n",
    "\\begin{bmatrix}2(0+1)+0-\\mu_3\\\\2(1-2)+\\mu_2-0\\\\\\end{bmatrix} = \\begin{bmatrix}0\\\\0\\\\\\end{bmatrix}\n",
    "$$\n",
    "\n",
    "Solve it, we have: $\\mu_2=\\mu_3=2$. The KKT condition is satisfied."
   ]
  },
  {
   "cell_type": "markdown",
   "metadata": {},
   "source": [
    "### Problem 2 (10 Points)\n",
    "\n",
    "Graph the problem \n",
    "\n",
    "$$\n",
    "\\begin{aligned}\n",
    "\\min_{x_1,x_2} & \\quad  f=-x_1\\\\\n",
    "{\\text{subject to }} & \\quad g_1=x_2-(1-x_1)^3\\leq 0{\\quad} {\\rm and}{\\quad} x_2\\geq 0.\n",
    "\\end{aligned}\n",
    "$$ \n",
    "\n",
    "Find the solution graphically. Then apply the optimality conditions. Can you find a solution based on the optimality conditions? Why? (From Kuhn and Tucker, 1951.)"
   ]
  },
  {
   "cell_type": "markdown",
   "metadata": {},
   "source": [
    "### Answer:\n",
    "![HW4_2](img/HW4_2.jpg)\n",
    "The optimum is located at (1,0).\n",
    "\n",
    "$$\n",
    "L({x, \\mu })=f({x})+\\mu g({x})\\\\\n",
    "=-x_1+\\mu_1 [x_2-(1-x_1)^3] +\\mu_2 x_2 \\\\\n",
    "$$\n",
    "Then,\n",
    "$$\n",
    "\\Delta L({x, \\mu})=\\begin{bmatrix}-1-3\\mu_1(x_1-1)^2 \\\\ \\mu_1 +\\mu_2 \\\\\\end{bmatrix} \\\\\n",
    "$$\n",
    "Point (1,0) is on $g_1$ and $g_2$, we have $\\mu_1>0$ and $\\mu_2>0$.\n",
    "$$\n",
    "\\Delta L({x, \\mu})=\\begin{bmatrix}-1 \\\\ \\mu_1 +\\mu_2 \\\\\\end{bmatrix} = \\begin{bmatrix}0\\\\0\\\\\\end{bmatrix} ,\\\\\n",
    "$$\n",
    "where $-1=0$ is wrong. Therefore no solution exists.\n",
    "\n",
    "This is because the constraints are not affine."
   ]
  },
  {
   "cell_type": "markdown",
   "metadata": {},
   "source": [
    "### Problem 3 (30 Points)\n",
    "\n",
    "Find a local solution to the problem \n",
    "\n",
    "$$\n",
    "\\begin{aligned}\n",
    "\\max_{x_1,x_2,x_3} & \\quad  f=x_1x_2+x_2x_3+x_1x_3\\\\\n",
    "{\\text{subject to }} & \\quad h=x_1+x_2+x_3-3=0.\n",
    "\\end{aligned}\n",
    "$$ \n",
    "\n",
    "Use two methods: reduced gradient and Lagrange multipliers."
   ]
  },
  {
   "cell_type": "markdown",
   "metadata": {},
   "source": [
    "### Answer:\n",
    "#### Using reduced gradient method:\n",
    "The problem equals to:\n",
    "$$\n",
    "\\min_{x_1,x_2,x_3} f=x_1x_2+x_2x_3+x_1x_3\\\\\n",
    "{\\text{subject to }} h=x_1+x_2+x_3-3=0.\n",
    "$$\n",
    "Let:\n",
    "$$\n",
    "d = \\begin{bmatrix}x_1 \\\\x_2 \\\\\\end{bmatrix},  s = x_3 = 6-x_1-x_2,\n",
    "$$\n",
    "At the optimum, we have\n",
    "$$\n",
    "\\frac{\\mathrm{d} f}{\\mathrm{d} d} = \\frac{\\partial f}{\\partial d}+\\frac{\\partial f}{\\partial s}\\frac{\\mathrm{d} s}{\\mathrm{d} d}\n",
    "= \\frac{\\partial f}{\\partial d}-\\frac{\\partial f}{\\partial s} \\left (\\frac{\\partial h}{\\partial s}\\right )^{-1} \\frac{\\partial h}{\\partial d}=0\\\\\n",
    "$$\n",
    "\n",
    "where\n",
    "\n",
    "$$\n",
    "\\frac{\\partial f}{\\partial d} = \\begin{bmatrix}x_2+x_3 \\\\x_1+x_3 \\\\\\end{bmatrix},\\\\ \\frac{\\partial f}{\\partial s} = x_1+x_2,\\\\ \\left (\\frac{\\partial h}{\\partial s}\\right )^{-1} = 1,\\\\ \\frac{\\partial h}{\\partial d} = \\begin{bmatrix}1 \\\\1 \\\\\\end{bmatrix},\\\\\n",
    "$$\n",
    "\n",
    "Then,\n",
    "\n",
    "$$\n",
    "\\frac{\\mathrm{d} f}{\\mathrm{d} d} = \\begin{bmatrix}x_3-x_1 \\\\x_3-x_2 \\\\\\end{bmatrix}=0,\\\\\n",
    "$$\n",
    "\n",
    "Then we have\n",
    "$$\n",
    "x_1=x_2=x_3=1,\\\\\n",
    "$$\n",
    "Check 2nd order derivatives:\n",
    "$$\n",
    "\\frac{\\mathrm{d}^2 f}{\\mathrm{d} d^2} > 0\n",
    "$$\n",
    "The solve optimum point is $(1,1,1)$."
   ]
  },
  {
   "cell_type": "markdown",
   "metadata": {},
   "source": [
    "#### Using Lagrange multipliers method\n",
    "Lagrange equation:\n",
    "$$\n",
    "L({x, \\lambda })=f({x})+\\lambda h({x})\\\\\n",
    "=-x_1x_2-x_2x_3-x_1x_3+\\lambda (x_1+x_2+x_3-3)\\\\\n",
    "$$\n",
    "Gradient:\n",
    "$$\n",
    "\\Delta L = \\begin{bmatrix} -x_2-x_3+\\lambda \\\\ -x_1-x_3+\\lambda \\\\ -x_1-x_2+\\lambda \\end{bmatrix}=0\n",
    "$$\n",
    "Solve above equation with $x_1+x_2+x_3-3=0$, we have:\n",
    "$$\n",
    "x_1=x_2=x_3=1, \\lambda=2.\n",
    "$$\n",
    "The solve optimum point is $(1,1,1)$."
   ]
  },
  {
   "cell_type": "markdown",
   "metadata": {},
   "source": [
    "### Problem 4 (20 Points)\n",
    "\n",
    "Use reduced gradient to\tfind the value(s) of the parameter $b$ for which the point $x_1=1$, $x_2=2$ is the solution to the problem \n",
    "\n",
    "$$\n",
    "\\begin{aligned}\n",
    "\\max_{x_1,x_2} & \\quad  f=2x_{1} + bx_2\\\\\n",
    "{\\text{subject to }} & \\quad g_1 = x_{1}^{2}+ x_{2}^{2}-5\\leq 0\\\\\n",
    "& \\quad g_2= x_1- x_2-2\\leq 0.\n",
    "\\end{aligned}\n",
    "$$ "
   ]
  },
  {
   "cell_type": "markdown",
   "metadata": {},
   "source": [
    "### Answer:\n",
    "The problem is equal to:\n",
    "$$\n",
    "\\begin{aligned}\n",
    "\\min_{x_1,x_2} & \\quad  f=2x_{1} + bx_2\\\\\n",
    "{\\text{subject to }} & \\quad g_1 = x_{1}^{2}+ x_{2}^{2}-5\\leq 0\\\\\n",
    "& \\quad g_2= x_1- x_2-2\\leq 0.\n",
    "\\end{aligned}\n",
    "$$ \n",
    "The point $(1,2)$ is on constraint $g_1$.\n",
    "Let $d=x_1$ and $s=x_2=\\sqrt{5-x_1^2}$.\n",
    "$$\n",
    "\\frac{\\mathrm{d} f}{\\mathrm{d} d} \n",
    "= \\frac{\\partial f}{\\partial d}-\\frac{\\partial f}{\\partial s} \\left (\\frac{\\partial h}{\\partial s}\\right )^{-1} \\frac{\\partial h}{\\partial d}=0\\\\\n",
    "$$\n",
    "where\n",
    "$$\n",
    "\\frac{\\partial f}{\\partial d} = 2,\\\\\n",
    "\\frac{\\partial f}{\\partial s} = b,\\\\\n",
    "\\left (\\frac{\\partial h}{\\partial s}\\right )^{-1} = \\frac{1}{2x_2},\\\\\n",
    "\\frac{\\partial h}{\\partial d} = 2x_1.\\\\\n",
    "$$\n",
    "Then \n",
    "$$\n",
    "\\frac{\\mathrm{d} f}{\\mathrm{d} d} = 2-\\frac{b x_1}{x_2}=2-\\frac{b}{2}.\n",
    "$$\n",
    "Therefore $b=4$."
   ]
  },
  {
   "cell_type": "markdown",
   "metadata": {},
   "source": [
    "### Problem 5 (30 Points)\n",
    "\n",
    "Find the solution for \n",
    "\n",
    "$$\n",
    "\\begin{aligned}\n",
    "\\min_{x_1,x_2,x_3} & \\quad  f=x_{1}^{2}+x_{2}^{2}+x_{3}^{2}\\\\\n",
    "{\\text{subject to }} & \\quad h_1 = x_{1}^{2}/4+x_{2}^{2}/5+x_{3}^{2}/25-1=0\\\\\n",
    "& \\quad h_2 = x_1+x_2-x_3= 0,\n",
    "\\end{aligned}\n",
    "$$ \n",
    "\n",
    "by implementing the generalized reduced gradient algorithm."
   ]
  },
  {
   "cell_type": "markdown",
   "metadata": {},
   "source": [
    "### Answer:\n",
    "Set $d=x_1$, $s=\\begin{bmatrix}x_2 \\\\x_3 \\\\\\end{bmatrix}=0$, \n",
    "then\n",
    "$$\n",
    "\\frac{\\partial f}{\\partial d} = 2x_1,\n",
    "\\frac{\\partial f}{\\partial s} = \\begin{bmatrix}2x_2 \\\\2x_3 \\\\\\end{bmatrix},\n",
    "\\frac{\\partial h}{\\partial s} = \\begin{bmatrix}2x_2/5 & 2x_3/25\\\\ 1& -1\\end{bmatrix},\n",
    "\\frac{\\partial h}{\\partial d} = \\begin{bmatrix}x_1/2 \\\\1 \\\\\\end{bmatrix},\n",
    "$$"
   ]
  },
  {
   "cell_type": "code",
   "execution_count": 12,
   "metadata": {},
   "outputs": [
    {
     "ename": "NameError",
     "evalue": "name 'solve' is not defined",
     "output_type": "error",
     "traceback": [
      "\u001b[1;31m---------------------------------------------------------------------------\u001b[0m",
      "\u001b[1;31mNameError\u001b[0m                                 Traceback (most recent call last)",
      "\u001b[1;32m<ipython-input-12-ef039a752be9>\u001b[0m in \u001b[0;36m<module>\u001b[1;34m\u001b[0m\n\u001b[0;32m     29\u001b[0m     \u001b[0md_k\u001b[0m \u001b[1;33m=\u001b[0m \u001b[0mx_k\u001b[0m\u001b[1;33m[\u001b[0m\u001b[1;36m0\u001b[0m\u001b[1;33m]\u001b[0m \u001b[1;33m-\u001b[0m \u001b[0ma_k\u001b[0m \u001b[1;33m*\u001b[0m \u001b[0mdfdd_k\u001b[0m\u001b[1;33m\u001b[0m\u001b[1;33m\u001b[0m\u001b[0m\n\u001b[0;32m     30\u001b[0m     \u001b[0ms_k\u001b[0m \u001b[1;33m=\u001b[0m \u001b[0mx_k\u001b[0m\u001b[1;33m[\u001b[0m\u001b[1;36m1\u001b[0m\u001b[1;33m:\u001b[0m\u001b[1;36m3\u001b[0m\u001b[1;33m]\u001b[0m \u001b[1;33m+\u001b[0m \u001b[0ma_k\u001b[0m \u001b[1;33m*\u001b[0m \u001b[0mnp\u001b[0m\u001b[1;33m.\u001b[0m\u001b[0mmatmul\u001b[0m\u001b[1;33m(\u001b[0m\u001b[0mnp\u001b[0m\u001b[1;33m.\u001b[0m\u001b[0mmatmul\u001b[0m\u001b[1;33m(\u001b[0m\u001b[0mpfps\u001b[0m\u001b[1;33m(\u001b[0m\u001b[0mx_k\u001b[0m\u001b[1;33m)\u001b[0m\u001b[1;33m,\u001b[0m \u001b[0mnp\u001b[0m\u001b[1;33m.\u001b[0m\u001b[0mlinalg\u001b[0m\u001b[1;33m.\u001b[0m\u001b[0minv\u001b[0m\u001b[1;33m(\u001b[0m\u001b[0mphps\u001b[0m\u001b[1;33m(\u001b[0m\u001b[0mx_k\u001b[0m\u001b[1;33m)\u001b[0m\u001b[1;33m)\u001b[0m\u001b[1;33m)\u001b[0m\u001b[1;33m,\u001b[0m \u001b[0mphpd\u001b[0m\u001b[1;33m(\u001b[0m\u001b[0mx_k\u001b[0m\u001b[1;33m)\u001b[0m\u001b[1;33m)\u001b[0m\u001b[1;33m\u001b[0m\u001b[1;33m\u001b[0m\u001b[0m\n\u001b[1;32m---> 31\u001b[1;33m     \u001b[0mx_k\u001b[0m \u001b[1;33m=\u001b[0m \u001b[0msolve\u001b[0m\u001b[1;33m(\u001b[0m\u001b[0mx_k\u001b[0m\u001b[1;33m)\u001b[0m\u001b[1;33m\u001b[0m\u001b[1;33m\u001b[0m\u001b[0m\n\u001b[0m\u001b[0;32m     32\u001b[0m     \u001b[0mprint\u001b[0m\u001b[1;33m(\u001b[0m\u001b[0mx_k\u001b[0m\u001b[1;33m)\u001b[0m\u001b[1;33m\u001b[0m\u001b[1;33m\u001b[0m\u001b[0m\n\u001b[0;32m     33\u001b[0m     \u001b[0mk\u001b[0m \u001b[1;33m+=\u001b[0m \u001b[1;36m1\u001b[0m\u001b[1;33m\u001b[0m\u001b[1;33m\u001b[0m\u001b[0m\n",
      "\u001b[1;31mNameError\u001b[0m: name 'solve' is not defined"
     ]
    }
   ],
   "source": [
    "import numpy as np\n",
    "import math\n",
    "# define f function\n",
    "ff = lambda x: x[0]**2 + x[1]**2 + x[2]**2\n",
    "# calculate gradients\n",
    "pfpd = lambda x: 2.0*x[0]\n",
    "pfps = lambda x: np.array([2.0*x[1], 2.0*x[2]])\n",
    "phps = lambda x: np.array([[2.0*x[1]/5.0, 2*x[2]/25.0],[1.0,-1.0]])\n",
    "phpd = lambda x: np.array([[x[0]/2.0], [1.0]])\n",
    "dfdd = lambda x: pfpd(x) - np.matmul(np.matmul(pfps(x), np.linalg.inv(phps(x))), phpd(x))\n",
    "\n",
    "err = 0.001\n",
    "k = 0\n",
    "\n",
    "def linesearch(x_, dfdd_):\n",
    "    a = 1.0\n",
    "    x1 = np.array([0,0,0])\n",
    "    x1[0]= x_[0]-a*dfdd_\n",
    "    x1[1:3]= x_[1:3] + a* np.transpose(np.matmul(np.matmul(np.linalg.inv(phps(x_)),phpd(x_)),np.transpose([dfdd(x_)])))    \n",
    "    while ff(x1) > (ff(x1)-a*0.3*dfdd_**2):\n",
    "        a = 0.5*a\n",
    "        x1[0]= x_[0]-a*dfdd_\n",
    "        x1[1:3]= x_[1:3] + a* np.transpose(np.matmul(np.matmul(np.linalg.inv(phps(x_)),phpd(x_)),np.transpose([dfdd(x_)])))\n",
    "    return a\n",
    "\n",
    "def solve\n",
    "\n",
    "x_k=np.array([0.0,2.0412414523193148,2.0412414523193148])\n",
    "while np.linalg.norm(dfdd(x_k)) > err:\n",
    "    dfdd_k = dfdd(x_k)\n",
    "    a_k = linesearch(x_k, dfdd_k)\n",
    "    d_k = x_k[0] - a_k * dfdd_k\n",
    "    s_k = x_k[1:3] + a_k * np.matmul(np.matmul(pfps(x_k), np.linalg.inv(phps(x_k))), phpd(x_k))\n",
    "    x_k = solve(x_k)\n",
    "    print(x_k)\n",
    "    k += 1\n",
    "\n"
   ]
  },
  {
   "cell_type": "code",
   "execution_count": null,
   "metadata": {},
   "outputs": [],
   "source": []
  }
 ],
 "metadata": {
  "kernelspec": {
   "display_name": "Python 3",
   "language": "python",
   "name": "python3"
  },
  "language_info": {
   "codemirror_mode": {
    "name": "ipython",
    "version": 3
   },
   "file_extension": ".py",
   "mimetype": "text/x-python",
   "name": "python",
   "nbconvert_exporter": "python",
   "pygments_lexer": "ipython3",
   "version": "3.7.6"
  },
  "pycharm": {
   "stem_cell": {
    "cell_type": "raw",
    "metadata": {
     "collapsed": false
    },
    "source": []
   }
  }
 },
 "nbformat": 4,
 "nbformat_minor": 5
}
